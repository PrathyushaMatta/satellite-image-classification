{
  "cells": [
    {
      "cell_type": "code",
      "execution_count": null,
      "metadata": {
        "colab": {
          "base_uri": "https://localhost:8080/"
        },
        "id": "xzfBhPNOMT8_",
        "outputId": "3078b278-c1e7-41ef-91de-3396b7e1af44"
      },
      "outputs": [
        {
          "output_type": "stream",
          "name": "stdout",
          "text": [
            "Collecting opendatasets\n",
            "  Downloading opendatasets-0.1.22-py3-none-any.whl.metadata (9.2 kB)\n",
            "Requirement already satisfied: tqdm in /usr/local/lib/python3.10/dist-packages (from opendatasets) (4.66.5)\n",
            "Requirement already satisfied: kaggle in /usr/local/lib/python3.10/dist-packages (from opendatasets) (1.6.17)\n",
            "Requirement already satisfied: click in /usr/local/lib/python3.10/dist-packages (from opendatasets) (8.1.7)\n",
            "Requirement already satisfied: six>=1.10 in /usr/local/lib/python3.10/dist-packages (from kaggle->opendatasets) (1.16.0)\n",
            "Requirement already satisfied: certifi>=2023.7.22 in /usr/local/lib/python3.10/dist-packages (from kaggle->opendatasets) (2024.8.30)\n",
            "Requirement already satisfied: python-dateutil in /usr/local/lib/python3.10/dist-packages (from kaggle->opendatasets) (2.8.2)\n",
            "Requirement already satisfied: requests in /usr/local/lib/python3.10/dist-packages (from kaggle->opendatasets) (2.32.3)\n",
            "Requirement already satisfied: python-slugify in /usr/local/lib/python3.10/dist-packages (from kaggle->opendatasets) (8.0.4)\n",
            "Requirement already satisfied: urllib3 in /usr/local/lib/python3.10/dist-packages (from kaggle->opendatasets) (2.2.3)\n",
            "Requirement already satisfied: bleach in /usr/local/lib/python3.10/dist-packages (from kaggle->opendatasets) (6.1.0)\n",
            "Requirement already satisfied: webencodings in /usr/local/lib/python3.10/dist-packages (from bleach->kaggle->opendatasets) (0.5.1)\n",
            "Requirement already satisfied: text-unidecode>=1.3 in /usr/local/lib/python3.10/dist-packages (from python-slugify->kaggle->opendatasets) (1.3)\n",
            "Requirement already satisfied: charset-normalizer<4,>=2 in /usr/local/lib/python3.10/dist-packages (from requests->kaggle->opendatasets) (3.3.2)\n",
            "Requirement already satisfied: idna<4,>=2.5 in /usr/local/lib/python3.10/dist-packages (from requests->kaggle->opendatasets) (3.10)\n",
            "Downloading opendatasets-0.1.22-py3-none-any.whl (15 kB)\n",
            "Installing collected packages: opendatasets\n",
            "Successfully installed opendatasets-0.1.22\n"
          ]
        }
      ],
      "source": [
        "!pip install opendatasets"
      ]
    },
    {
      "cell_type": "code",
      "execution_count": null,
      "metadata": {
        "colab": {
          "base_uri": "https://localhost:8080/"
        },
        "id": "nagdnqSRMZBY",
        "outputId": "dc8f1bd2-aaee-40fa-ac77-93a01e8e0c74"
      },
      "outputs": [
        {
          "output_type": "stream",
          "name": "stdout",
          "text": [
            "Please provide your Kaggle credentials to download this dataset. Learn more: http://bit.ly/kaggle-creds\n",
            "Your Kaggle username: prathyushamatta\n",
            "Your Kaggle Key: ··········\n",
            "Dataset URL: https://www.kaggle.com/datasets/apollo2506/eurosat-dataset\n",
            "Downloading eurosat-dataset.zip to ./eurosat-dataset\n"
          ]
        },
        {
          "output_type": "stream",
          "name": "stderr",
          "text": [
            "100%|██████████| 2.04G/2.04G [00:27<00:00, 80.7MB/s]\n"
          ]
        },
        {
          "output_type": "stream",
          "name": "stdout",
          "text": [
            "\n"
          ]
        }
      ],
      "source": [
        "import opendatasets as od\n",
        "import pandas\n",
        "od.download(\"https://www.kaggle.com/datasets/apollo2506/eurosat-dataset\",force=True)"
      ]
    },
    {
      "cell_type": "code",
      "execution_count": null,
      "metadata": {
        "id": "YYeMFfiww_Gh"
      },
      "outputs": [],
      "source": [
        "import torch\n",
        "from torchvision import datasets, transforms\n",
        "from torch.utils.data import DataLoader, random_split\n",
        "import os\n",
        "\n",
        "# Define the root directory for EuroSAT dataset\n",
        "root_dir = \"/content/EuroSAT\"\n",
        "\n",
        "# Define transformations (including normalization, resizing, etc.)\n",
        "transform = transforms.Compose([\n",
        "    transforms.Resize((224, 224)),  # Resize to fit pretrained models like ResNet\n",
        "    transforms.ToTensor(),\n",
        "    transforms.Normalize(mean=[0.485, 0.456, 0.406], std=[0.229, 0.224, 0.225])\n",
        "])\n",
        "\n",
        "train_dataset = datasets.ImageFolder(root=train_dir, transform=transform)\n",
        "val_dataset = datasets.ImageFolder(root=val_dir, transform=transform)\n",
        "\n",
        "# Create data loaders for training and validation\n",
        "train_loader = DataLoader(train_dataset, batch_size=32, shuffle=True)\n",
        "val_loader = DataLoader(val_dataset, batch_size=32, shuffle=False)\n"
      ]
    },
    {
      "cell_type": "code",
      "execution_count": null,
      "metadata": {
        "colab": {
          "base_uri": "https://localhost:8080/"
        },
        "id": "5dRg8DcpF2Nq",
        "outputId": "2f80af77-df45-4508-d594-9f17afd91993"
      },
      "outputs": [
        {
          "output_type": "stream",
          "name": "stdout",
          "text": [
            "Dataset split into train and validation folders.\n"
          ]
        }
      ],
      "source": [
        "import os\n",
        "import shutil\n",
        "from sklearn.model_selection import train_test_split\n",
        "\n",
        "# Set your dataset root directory\n",
        "root_dir = \"/content/EuroSAT\"\n",
        "classes = os.listdir(root_dir)\n",
        "\n",
        "# Directories where train and validation data will be stored\n",
        "train_dir = os.path.join(root_dir, 'train')\n",
        "val_dir = os.path.join(root_dir, 'val')\n",
        "\n",
        "# Create train and validation directories if they don't exist\n",
        "os.makedirs(train_dir, exist_ok=True)\n",
        "os.makedirs(val_dir, exist_ok=True)\n",
        "\n",
        "for class_name in classes:\n",
        "    class_path = os.path.join(root_dir, class_name)\n",
        "    if os.path.isdir(class_path):\n",
        "        # Create class directories in train and val folders\n",
        "        os.makedirs(os.path.join(train_dir, class_name), exist_ok=True)\n",
        "        os.makedirs(os.path.join(val_dir, class_name), exist_ok=True)\n",
        "\n",
        "        # Get all images for the class\n",
        "        images = os.listdir(class_path)\n",
        "        train_images, val_images = train_test_split(images, test_size=0.2, random_state=42)\n",
        "\n",
        "        # Move train images\n",
        "        for img in train_images:\n",
        "            shutil.move(os.path.join(class_path, img), os.path.join(train_dir, class_name, img))\n",
        "\n",
        "        # Move validation images\n",
        "        for img in val_images:\n",
        "            shutil.move(os.path.join(class_path, img), os.path.join(val_dir, class_name, img))\n",
        "\n",
        "print(\"Dataset split into train and validation folders.\")\n"
      ]
    },
    {
      "cell_type": "code",
      "execution_count": null,
      "metadata": {
        "colab": {
          "base_uri": "https://localhost:8080/"
        },
        "id": "UlL6hWi_FQ-S",
        "outputId": "0060881a-8a06-46ae-9b05-1bf00b6683c4"
      },
      "outputs": [
        {
          "metadata": {
            "tags": null
          },
          "name": "stderr",
          "output_type": "stream",
          "text": [
            "/usr/local/lib/python3.10/dist-packages/torchvision/models/_utils.py:208: UserWarning: The parameter 'pretrained' is deprecated since 0.13 and may be removed in the future, please use 'weights' instead.\n",
            "  warnings.warn(\n",
            "/usr/local/lib/python3.10/dist-packages/torchvision/models/_utils.py:223: UserWarning: Arguments other than a weight enum or `None` for 'weights' are deprecated since 0.13 and may be removed in the future. The current behavior is equivalent to passing `weights=ResNet50_Weights.IMAGENET1K_V1`. You can also use `weights=ResNet50_Weights.DEFAULT` to get the most up-to-date weights.\n",
            "  warnings.warn(msg)\n",
            "Downloading: \"https://download.pytorch.org/models/resnet50-0676ba61.pth\" to /root/.cache/torch/hub/checkpoints/resnet50-0676ba61.pth\n",
            "100%|██████████| 97.8M/97.8M [00:00<00:00, 180MB/s]\n"
          ]
        },
        {
          "output_type": "stream",
          "name": "stdout",
          "text": [
            "Epoch 1/10, Loss: 0.5051, Accuracy: 84.17%\n",
            "Validation Loss: 0.7210, Validation Accuracy: 82.00%\n",
            "Epoch 2/10, Loss: 0.2458, Accuracy: 91.96%\n",
            "Validation Loss: 0.2569, Validation Accuracy: 91.87%\n",
            "Epoch 3/10, Loss: 0.1930, Accuracy: 93.54%\n",
            "Validation Loss: 0.2170, Validation Accuracy: 92.63%\n",
            "Epoch 4/10, Loss: 0.1548, Accuracy: 94.88%\n",
            "Validation Loss: 0.1870, Validation Accuracy: 93.24%\n",
            "Epoch 5/10, Loss: 0.1320, Accuracy: 95.49%\n",
            "Validation Loss: 0.1403, Validation Accuracy: 95.11%\n",
            "Epoch 6/10, Loss: 0.1203, Accuracy: 95.94%\n",
            "Validation Loss: 0.2165, Validation Accuracy: 93.50%\n",
            "Epoch 7/10, Loss: 0.1108, Accuracy: 96.01%\n",
            "Validation Loss: 0.0809, Validation Accuracy: 97.54%\n",
            "Epoch 8/10, Loss: 0.1102, Accuracy: 96.28%\n",
            "Validation Loss: 0.1191, Validation Accuracy: 96.26%\n",
            "Epoch 9/10, Loss: 0.0925, Accuracy: 96.81%\n",
            "Validation Loss: 0.1060, Validation Accuracy: 96.37%\n",
            "Epoch 10/10, Loss: 0.0780, Accuracy: 97.31%\n",
            "Validation Loss: 0.1033, Validation Accuracy: 96.52%\n"
          ]
        }
      ],
      "source": [
        "import torch\n",
        "import torch.nn as nn\n",
        "from torchvision import models\n",
        "\n",
        "# Load a pretrained ResNet model\n",
        "model = models.resnet50(pretrained=True)\n",
        "\n",
        "# Modify the final fully connected layer for multiclass classification (EuroSAT has 10 classes)\n",
        "num_classes = 10\n",
        "model.fc = nn.Linear(model.fc.in_features, num_classes)\n",
        "\n",
        "# Move the model to GPU if available\n",
        "device = torch.device(\"cuda\" if torch.cuda.is_available() else \"cpu\")\n",
        "model = model.to(device)\n",
        "\n",
        "# Define loss function and optimizer\n",
        "criterion = nn.CrossEntropyLoss()\n",
        "optimizer = torch.optim.Adam(model.parameters(), lr=0.001)\n",
        "\n",
        "# Training loop\n",
        "def train(model, train_loader, val_loader, criterion, optimizer, epochs=10):\n",
        "    for epoch in range(epochs):\n",
        "        model.train()\n",
        "        running_loss = 0.0\n",
        "        correct = 0\n",
        "        total = 0\n",
        "\n",
        "        for inputs, labels in train_loader:\n",
        "            inputs, labels = inputs.to(device), labels.to(device)\n",
        "\n",
        "            # Zero the parameter gradients\n",
        "            optimizer.zero_grad()\n",
        "\n",
        "            # Forward pass\n",
        "            outputs = model(inputs)\n",
        "            loss = criterion(outputs, labels)\n",
        "            loss.backward()\n",
        "            optimizer.step()\n",
        "\n",
        "            # Track loss and accuracy\n",
        "            running_loss += loss.item()\n",
        "            _, predicted = torch.max(outputs, 1)\n",
        "            total += labels.size(0)\n",
        "            correct += (predicted == labels).sum().item()\n",
        "\n",
        "        # Print training statistics\n",
        "        print(f'Epoch {epoch+1}/{epochs}, Loss: {running_loss/len(train_loader):.4f}, Accuracy: {100 * correct/total:.2f}%')\n",
        "\n",
        "        # Validation step (you can also add early stopping, etc.)\n",
        "        validate(model, val_loader, criterion)\n",
        "\n",
        "# Validation loop\n",
        "def validate(model, val_loader, criterion):\n",
        "    model.eval()\n",
        "    val_loss = 0.0\n",
        "    correct = 0\n",
        "    total = 0\n",
        "\n",
        "    with torch.no_grad():\n",
        "        for inputs, labels in val_loader:\n",
        "            inputs, labels = inputs.to(device), labels.to(device)\n",
        "\n",
        "            outputs = model(inputs)\n",
        "            loss = criterion(outputs, labels)\n",
        "\n",
        "            val_loss += loss.item()\n",
        "            _, predicted = torch.max(outputs, 1)\n",
        "            total += labels.size(0)\n",
        "            correct += (predicted == labels).sum().item()\n",
        "\n",
        "    print(f'Validation Loss: {val_loss/len(val_loader):.4f}, Validation Accuracy: {100 * correct/total:.2f}%')\n",
        "\n",
        "# Train the model\n",
        "train(model, train_loader, val_loader, criterion, optimizer, epochs=10)\n"
      ]
    },
    {
      "cell_type": "code",
      "source": [
        "torch.save(model.state_dict(), 'fine_tuned_model.pth')"
      ],
      "metadata": {
        "id": "sCyacoMF_I8a"
      },
      "execution_count": null,
      "outputs": []
    },
    {
      "cell_type": "code",
      "source": [
        "import torch\n",
        "from torchvision import transforms\n",
        "from PIL import Image\n",
        "\n",
        "# Define the image transformations (the same as used during training)\n",
        "preprocess = transforms.Compose([\n",
        "    transforms.Resize((224, 224)),  # ResNet50 expects 224x224 input size\n",
        "    transforms.ToTensor(),\n",
        "    transforms.Normalize(mean=[0.485, 0.456, 0.406], std=[0.229, 0.224, 0.225]),  # Standard normalization\n",
        "])\n",
        "\n",
        "# Load the saved model\n",
        "model = models.resnet50(pretrained=False)\n",
        "num_classes = 10  # EuroSAT has 10 classes\n",
        "model.fc = torch.nn.Linear(model.fc.in_features, num_classes)\n",
        "model.load_state_dict(torch.load('fine_tuned_model.pth'))  # Load fine-tuned model weights\n",
        "model = model.to(device)  # Move the model to GPU if available\n",
        "model.eval()  # Set model to evaluation mode\n",
        "\n",
        "# Function to predict the image label\n",
        "def predict_image_label(image_path):\n",
        "    # Load the image and preprocess it\n",
        "    img = Image.open(image_path)\n",
        "    img_tensor = preprocess(img).unsqueeze(0).to(device)  # Add batch dimension and move to GPU if available\n",
        "\n",
        "    # Make predictions\n",
        "    with torch.no_grad():\n",
        "        outputs = model(img_tensor)\n",
        "        _, predicted = torch.max(outputs, 1)\n",
        "\n",
        "    # Mapping index to class label (assuming you have a list of class names)\n",
        "    class_names = ['AnnualCrop', 'Forest', 'HerbaceousVegetation', 'Highway', 'Industrial',\n",
        "                   'Pasture', 'PermanentCrop', 'Residential', 'River', 'SeaLake']\n",
        "\n",
        "    predicted_label = class_names[predicted.item()]\n",
        "    return predicted_label\n",
        "\n",
        "# Prompt user for image input\n",
        "def main():\n",
        "    # Ask the user to input the image path\n",
        "    image_path = input(\"Please enter the path to the image: \")\n",
        "\n",
        "    try:\n",
        "        predicted_label = predict_image_label(image_path)\n",
        "        print(f'Predicted label for the input image: {predicted_label}')\n",
        "    except Exception as e:\n",
        "        print(f\"Error processing the image: {e}\")\n",
        "\n",
        "# Run the prompt to get user input\n",
        "if __name__ == \"__main__\":\n",
        "    main()\n"
      ],
      "metadata": {
        "colab": {
          "base_uri": "https://localhost:8080/"
        },
        "id": "HpxoooXlNFe0",
        "outputId": "dce5bff9-6d5a-41df-a33a-e2083f1bc09d"
      },
      "execution_count": null,
      "outputs": [
        {
          "output_type": "stream",
          "name": "stderr",
          "text": [
            "/usr/local/lib/python3.10/dist-packages/torchvision/models/_utils.py:223: UserWarning: Arguments other than a weight enum or `None` for 'weights' are deprecated since 0.13 and may be removed in the future. The current behavior is equivalent to passing `weights=None`.\n",
            "  warnings.warn(msg)\n",
            "<ipython-input-13-0d491ba52209>:16: FutureWarning: You are using `torch.load` with `weights_only=False` (the current default value), which uses the default pickle module implicitly. It is possible to construct malicious pickle data which will execute arbitrary code during unpickling (See https://github.com/pytorch/pytorch/blob/main/SECURITY.md#untrusted-models for more details). In a future release, the default value for `weights_only` will be flipped to `True`. This limits the functions that could be executed during unpickling. Arbitrary objects will no longer be allowed to be loaded via this mode unless they are explicitly allowlisted by the user via `torch.serialization.add_safe_globals`. We recommend you start setting `weights_only=True` for any use case where you don't have full control of the loaded file. Please open an issue on GitHub for any issues related to this experimental feature.\n",
            "  model.load_state_dict(torch.load('fine_tuned_model.pth'))  # Load fine-tuned model weights\n"
          ]
        },
        {
          "output_type": "stream",
          "name": "stdout",
          "text": [
            "Please enter the path to the image: /content/EuroSAT/val/Highway/Highway_100.jpg\n",
            "Predicted label for the input image: Highway\n"
          ]
        }
      ]
    }
  ],
  "metadata": {
    "accelerator": "GPU",
    "colab": {
      "gpuType": "T4",
      "provenance": []
    },
    "kernelspec": {
      "display_name": "Python 3",
      "name": "python3"
    },
    "language_info": {
      "name": "python"
    }
  },
  "nbformat": 4,
  "nbformat_minor": 0
}